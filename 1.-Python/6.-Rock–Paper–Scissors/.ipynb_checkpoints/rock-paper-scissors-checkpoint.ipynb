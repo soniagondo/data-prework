{
 "cells": [
  {
   "cell_type": "markdown",
   "metadata": {},
   "source": [
    "<img src=\"https://bit.ly/2VnXWr2\" width=\"100\" align=\"left\">"
   ]
  },
  {
   "cell_type": "markdown",
   "metadata": {},
   "source": [
    "# Rock, Paper & Scissors\n",
    "\n",
    "Let's play the famous game against our computer. You can check the rules [here](https://en.wikipedia.org/wiki/Rock%E2%80%93paper%E2%80%93scissors). \n",
    "\n",
    "## Task\n",
    "Create a program that imitates the playability of the well known game of rock, paper, scissors. Follow the guidelines provided.\n",
    "\n",
    "## Tools\n",
    "1. Loop: **for/while**\n",
    "2. Functions: **input(), print()...**\n",
    "3. Conditional statements: **if, elif, else**\n",
    "4. Definition of functions. Modular programming\n",
    "5. Import modules\n",
    "\n",
    "**To solve this challenge, the use of functions is recommended.**\n",
    "\n",
    "#### 1. Import the choice function of the random module."
   ]
  },
  {
   "cell_type": "code",
   "execution_count": 1,
   "metadata": {},
   "outputs": [],
   "source": [
    "import random"
   ]
  },
  {
   "cell_type": "markdown",
   "metadata": {},
   "source": [
    "#### 2. Create a list that includes the 3 possible gesture options of the game: 'rock', 'paper' or 'scissors'. Store the list in a variable called `gestures`."
   ]
  },
  {
   "cell_type": "code",
   "execution_count": 2,
   "metadata": {},
   "outputs": [],
   "source": [
    "gestures = ['rock','paper','scissors']"
   ]
  },
  {
   "cell_type": "markdown",
   "metadata": {},
   "source": [
    "#### 3. Create a variable called `n_rounds` to store the maximum number of rounds to play in a game. \n",
    "Remember that the number of rounds must be odd: 1, 3, 5, ..."
   ]
  },
  {
   "cell_type": "code",
   "execution_count": 3,
   "metadata": {},
   "outputs": [],
   "source": [
    "n_rounds = 3"
   ]
  },
  {
   "cell_type": "markdown",
   "metadata": {},
   "source": [
    "#### 4. Create a variable called `rounds_to_win` to store the number of rounds that a player must win to win the game.\n",
    "**Hint**: the value stored in `rounds_to_win` depends on the value of `n_rounds`. "
   ]
  },
  {
   "cell_type": "code",
   "execution_count": 4,
   "metadata": {},
   "outputs": [],
   "source": [
    "rounds_to_win = n_rounds - 1"
   ]
  },
  {
   "cell_type": "markdown",
   "metadata": {},
   "source": [
    "#### 5. Create two variables to store the number of rounds that the computer and the player have won. Call these variables `cpu_score` and `player_score`."
   ]
  },
  {
   "cell_type": "code",
   "execution_count": 5,
   "metadata": {},
   "outputs": [],
   "source": [
    "cpu_score = 0\n",
    "player_score = 0"
   ]
  },
  {
   "cell_type": "markdown",
   "metadata": {},
   "source": [
    "#### 6. Define a function that randomly returns one of the 3 gesture options.\n",
    "You will use this function to simulate the gesture choice of the computer. "
   ]
  },
  {
   "cell_type": "code",
   "execution_count": 6,
   "metadata": {
    "scrolled": true
   },
   "outputs": [],
   "source": [
    "def function_computer():\n",
    "    gestures = ['rock','paper','scissors']\n",
    "    computer = random.choice(gestures)\n",
    "    return computer"
   ]
  },
  {
   "cell_type": "code",
   "execution_count": 7,
   "metadata": {},
   "outputs": [
    {
     "data": {
      "text/plain": [
       "'rock'"
      ]
     },
     "execution_count": 7,
     "metadata": {},
     "output_type": "execute_result"
    }
   ],
   "source": [
    "var_gestures = function_computer()\n",
    "var_gestures"
   ]
  },
  {
   "cell_type": "markdown",
   "metadata": {},
   "source": [
    "#### 7. Define a function that asks the player which is the gesture he or she wants to show: 'rock', 'paper' or 'scissors'.\n",
    "The player should only be allowed to choose one of the 3 gesture options. If the player's choice is not rock, paper or scissors, keep asking until it is."
   ]
  },
  {
   "cell_type": "code",
   "execution_count": 8,
   "metadata": {},
   "outputs": [
    {
     "name": "stdout",
     "output_type": "stream",
     "text": [
      "choose one of the 3 gesture options: rock, paper or scissors:paper\n"
     ]
    },
    {
     "data": {
      "text/plain": [
       "'paper'"
      ]
     },
     "execution_count": 8,
     "metadata": {},
     "output_type": "execute_result"
    }
   ],
   "source": [
    "def function_player():\n",
    "    choose_player = \"\"\n",
    "    gestures = ['rock','paper','scissors']\n",
    "    while(choose_player not in gestures):\n",
    "        choose_player = raw_input(\"choose one of the 3 gesture options: rock, paper or scissors:\")\n",
    "    return choose_player\n",
    "var_player = function_player()\n",
    "var_player"
   ]
  },
  {
   "cell_type": "markdown",
   "metadata": {},
   "source": [
    "#### 8. Define a function that checks who won a round. \n",
    "The function should return 0 if there is a tie, 1 if the computer wins and 2 if the player wins."
   ]
  },
  {
   "cell_type": "code",
   "execution_count": 9,
   "metadata": {},
   "outputs": [],
   "source": [
    "def function_winner():\n",
    "    \n",
    "    choose_player = function_player()\n",
    "    computer = function_computer()\n",
    "    \n",
    "    print(\"Jogada do player\",choose_player)\n",
    "    print(\"Jogada do computer\",computer)\n",
    "    \n",
    "    if (choose_player == \"rock\") & (computer == \"rock\"):\n",
    "        return 0\n",
    "       \n",
    "    elif (choose_player == \"rock\") & (computer == \"paper\"):\n",
    "        return 2\n",
    "    elif (choose_player == \"rock\") & (computer == \"scissors\"):\n",
    "        return 2\n",
    "    elif (choose_player == \"paper\") & (computer == \"rock\"):\n",
    "        return 1\n",
    "    elif (choose_player == \"paper\") & (computer == \"paper\"):\n",
    "        return 0\n",
    "    elif (choose_player == \"paper\") & (computer == \"scissors\"):\n",
    "        return 1\n",
    "    elif (choose_player == \"scissors\") & (computer == \"rock\"):\n",
    "        return 1\n",
    "    elif (choose_player == \"scissors\") & (computer == \"paper\"):\n",
    "        return 2\n",
    "    elif (choose_player == \"scissors\") & (computer == \"scissors\"):\n",
    "        return 0\n",
    "       "
   ]
  },
  {
   "cell_type": "code",
   "execution_count": 10,
   "metadata": {},
   "outputs": [
    {
     "name": "stdout",
     "output_type": "stream",
     "text": [
      "choose one of the 3 gesture options: rock, paper or scissors:paper\n",
      "('Jogada do player', 'paper')\n",
      "('Jogada do computer', 'scissors')\n"
     ]
    },
    {
     "data": {
      "text/plain": [
       "1"
      ]
     },
     "execution_count": 10,
     "metadata": {},
     "output_type": "execute_result"
    }
   ],
   "source": [
    "var_winner = function_winner()\n",
    "var_winner"
   ]
  },
  {
   "cell_type": "markdown",
   "metadata": {},
   "source": [
    "#### 9. Define a function that prints the choice of the computer, the choice of the player and a message that announces who won the current round. \n",
    "You should also use this function to update the variables that count the number of rounds that the computer and the player have won. The score of the winner increases by one point. If there is a tie, the score does not increase."
   ]
  },
  {
   "cell_type": "code",
   "execution_count": 11,
   "metadata": {},
   "outputs": [],
   "source": [
    "def function_printwinner():\n",
    "    \n",
    "    round_winner = function_winner()\n",
    "    \n",
    "    cpu_point = 0\n",
    "    player_point = 0\n",
    "        \n",
    "    if round_winner == 1:\n",
    "        print(\"O vencedor da rodada é o Computador\")\n",
    "        cpu_point = 1\n",
    "    elif round_winner == 2:\n",
    "        print(\"O vendedor da rodada é o Player\")\n",
    "        player_point = 1\n",
    "    else:\n",
    "        print(\"Rodada empatada\")\n",
    "    return (cpu_point, player_point)"
   ]
  },
  {
   "cell_type": "code",
   "execution_count": 12,
   "metadata": {},
   "outputs": [
    {
     "name": "stdout",
     "output_type": "stream",
     "text": [
      "choose one of the 3 gesture options: rock, paper or scissors:paper\n",
      "('Jogada do player', 'paper')\n",
      "('Jogada do computer', 'scissors')\n",
      "O vencedor da rodada é o Computador\n"
     ]
    },
    {
     "data": {
      "text/plain": [
       "(1, 0)"
      ]
     },
     "execution_count": 12,
     "metadata": {},
     "output_type": "execute_result"
    }
   ],
   "source": [
    "function_printwinner()\n"
   ]
  },
  {
   "cell_type": "markdown",
   "metadata": {},
   "source": [
    "#### 10. Now it's time to code the execution of the game using the functions and variables you defined above. \n",
    "\n",
    "First, create a loop structure that repeats while no player reaches the minimum score necessary to win and the number of rounds is less than the maximum number of rounds to play in a game.  \n",
    "\n",
    "Inside the loop, use the functions and variables above to create the execution of a round: ask for the player's choice, generate the random choice of the computer, show the round results, update the scores, etc. "
   ]
  },
  {
   "cell_type": "code",
   "execution_count": 43,
   "metadata": {},
   "outputs": [
    {
     "name": "stdout",
     "output_type": "stream",
     "text": [
      "choose one of the 3 gesture options: rock, paper or scissors:paper\n",
      "('Jogada do player', 'paper')\n",
      "('Jogada do computer', 'paper')\n",
      "Rodada empatada\n",
      "choose one of the 3 gesture options: rock, paper or scissors:rock\n",
      "('Jogada do player', 'rock')\n",
      "('Jogada do computer', 'paper')\n",
      "O vendedor da rodada é o Player\n",
      "choose one of the 3 gesture options: rock, paper or scissors:paper\n",
      "('Jogada do player', 'paper')\n",
      "('Jogada do computer', 'paper')\n",
      "Rodada empatada\n",
      "Player ganhou\n"
     ]
    }
   ],
   "source": [
    "def function_game():\n",
    "    n_rounds = 0\n",
    "    cpu_score = 0\n",
    "    max_rounds = 3\n",
    "    minWin = (max_rounds/2)+1\n",
    "    player_score = 0\n",
    "    \n",
    "    while (n_rounds < max_rounds) & (cpu_score < minWin) & (player_score < minWin):\n",
    "        \n",
    "        cpu_point , player_point = function_printwinner()\n",
    "        if cpu_point == 1:\n",
    "            cpu_score += 1\n",
    "        elif player_point == 1:\n",
    "            player_score += 1\n",
    "        n_rounds+=1\n",
    "        \n",
    "    if cpu_score > player_score:\n",
    "        print(\"Computador ganhou\")\n",
    "    elif player_score > cpu_score:\n",
    "        print(\"Player ganhou\")\n",
    "    else:\n",
    "        print(\"Jogo empatado\")\n",
    "            \n",
    "function_game()"
   ]
  },
  {
   "cell_type": "markdown",
   "metadata": {},
   "source": [
    "#### 11. Print the winner of the game based on who won more rounds.\n",
    "Remember that the game might be tied. "
   ]
  },
  {
   "cell_type": "code",
   "execution_count": 14,
   "metadata": {},
   "outputs": [
    {
     "name": "stdout",
     "output_type": "stream",
     "text": [
      "Computador ganhou\n"
     ]
    }
   ],
   "source": [
    "if cpu_score >= player_score:\n",
    "    print(\"Computador ganhou\")\n",
    "elif player_score >= cpu_score:\n",
    "    print(\"Player ganhou\")"
   ]
  },
  {
   "cell_type": "markdown",
   "metadata": {},
   "source": [
    "# Bonus: Rock, Paper, Scissors, Lizard & Spock\n",
    "![](images/rpsls.jpg)\n",
    "\n",
    "In this challenge, you need to improve the previous game by adding two new options. To know more about the rules of the improved version of rock, paper, scissors, check this [link](http://www.samkass.com/theories/RPSSL.html). \n",
    "\n",
    "In addition, you will also need to improve how the game interacts with the player: the number of rounds to play, which must be an odd number, will be requested to the user until a valid number is entered. Define a new function to make that request.\n",
    "\n",
    "**Hint**: Try to reuse the code that you already coded in the previous challenge. If your code is efficient, this bonus will only consist of simple modifications to the original game."
   ]
  },
  {
   "cell_type": "code",
   "execution_count": 15,
   "metadata": {},
   "outputs": [
    {
     "data": {
      "text/plain": [
       "'scissors'"
      ]
     },
     "execution_count": 15,
     "metadata": {},
     "output_type": "execute_result"
    }
   ],
   "source": [
    "def function_computerbonus():\n",
    "    gestures = ['rock','paper','scissors','lizard','spock']\n",
    "    computer = random.choice(gestures)\n",
    "    return computer\n",
    "function_computerbonus()"
   ]
  },
  {
   "cell_type": "code",
   "execution_count": 29,
   "metadata": {},
   "outputs": [
    {
     "name": "stdout",
     "output_type": "stream",
     "text": [
      "how many of rounds to play? select a odd number.5\n"
     ]
    },
    {
     "data": {
      "text/plain": [
       "5"
      ]
     },
     "execution_count": 29,
     "metadata": {},
     "output_type": "execute_result"
    }
   ],
   "source": [
    "def function_numberroundsbonus():\n",
    "   \n",
    "    number_rounds = raw_input(\"how many of rounds to play? select a odd number.\")\n",
    "    \n",
    "    while(int(number_rounds) % 2 == 0):\n",
    "        number_rounds = raw_input(\"how many of rounds to play? select a odd number.\")\n",
    "    \n",
    "    return (int(number_rounds))\n",
    "function_numberroundsbonus()"
   ]
  },
  {
   "cell_type": "code",
   "execution_count": 36,
   "metadata": {},
   "outputs": [
    {
     "name": "stdout",
     "output_type": "stream",
     "text": [
      "choose one of the 5 gesture options: rock, paper, scissors, lizard or spock:paper\n"
     ]
    },
    {
     "data": {
      "text/plain": [
       "'paper'"
      ]
     },
     "execution_count": 36,
     "metadata": {},
     "output_type": "execute_result"
    }
   ],
   "source": [
    "def function_playerbonus():\n",
    "    choose_player = \"\"\n",
    "    gestures = ['rock','paper','scissors','lizard','spock']\n",
    "    while(choose_player not in gestures):\n",
    "        choose_player = raw_input(\"choose one of the 5 gesture options: rock, paper, scissors, lizard or spock:\")\n",
    "    return choose_player\n",
    "var_player = function_playerbonus()\n",
    "var_player"
   ]
  },
  {
   "cell_type": "code",
   "execution_count": 37,
   "metadata": {},
   "outputs": [
    {
     "name": "stdout",
     "output_type": "stream",
     "text": [
      "choose one of the 5 gesture options: rock, paper, scissors, lizard or spock:paper\n",
      "('Jogada do player', 'paper')\n",
      "('Jogada do computer', 'scissors')\n"
     ]
    },
    {
     "data": {
      "text/plain": [
       "1"
      ]
     },
     "execution_count": 37,
     "metadata": {},
     "output_type": "execute_result"
    }
   ],
   "source": [
    "def function_winnerbonus():\n",
    "    \n",
    "    choose_player = function_playerbonus()\n",
    "    computer = function_computerbonus()\n",
    "    \n",
    "    print(\"Jogada do player\",choose_player)\n",
    "    print(\"Jogada do computer\",computer)\n",
    "    \n",
    "    if (choose_player == \"rock\") & (computer == \"rock\"):\n",
    "        return 0       \n",
    "    elif (choose_player == \"rock\") & (computer == \"paper\"):\n",
    "        return 2\n",
    "    elif (choose_player == \"rock\") & (computer == \"scissors\"):\n",
    "        return 2\n",
    "    elif (choose_player == \"rock\") & (computer == \"lizard\"):\n",
    "        return 2\n",
    "    elif (choose_player == \"rock\") & (computer == \"spock\"):\n",
    "        return 1    \n",
    "    elif (choose_player == \"paper\") & (computer == \"rock\"):\n",
    "        return 1\n",
    "    elif (choose_player == \"paper\") & (computer == \"paper\"):\n",
    "        return 0\n",
    "    elif (choose_player == \"paper\") & (computer == \"lizard\"):\n",
    "        return 1\n",
    "    elif (choose_player == \"paper\") & (computer == \"spock\"):\n",
    "        return 2\n",
    "    elif (choose_player == \"paper\") & (computer == \"scissors\"):\n",
    "        return 1\n",
    "    elif (choose_player == \"scissors\") & (computer == \"rock\"):\n",
    "        return 1\n",
    "    elif (choose_player == \"scissors\") & (computer == \"paper\"):\n",
    "        return 2\n",
    "    elif (choose_player == \"scissors\") & (computer == \"scissors\"):\n",
    "        return 0\n",
    "    elif (choose_player == \"scissors\") & (computer == \"lizard\"):\n",
    "        return 2\n",
    "    elif (choose_player == \"scissors\") & (computer == \"spock\"):\n",
    "        return 1\n",
    "var_winnerbonus = function_winnerbonus()\n",
    "var_winnerbonus "
   ]
  },
  {
   "cell_type": "code",
   "execution_count": 38,
   "metadata": {},
   "outputs": [
    {
     "name": "stdout",
     "output_type": "stream",
     "text": [
      "choose one of the 5 gesture options: rock, paper, scissors, lizard or spock:paper\n",
      "('Jogada do player', 'paper')\n",
      "('Jogada do computer', 'lizard')\n",
      "O vencedor da rodada é o Computador\n"
     ]
    },
    {
     "data": {
      "text/plain": [
       "(1, 0)"
      ]
     },
     "execution_count": 38,
     "metadata": {},
     "output_type": "execute_result"
    }
   ],
   "source": [
    "def function_printwinnerbonus():\n",
    "    \n",
    "    round_winner = function_winnerbonus()\n",
    "    \n",
    "    cpu_point = 0\n",
    "    player_point = 0\n",
    "        \n",
    "    if round_winner == 1:\n",
    "        print(\"O vencedor da rodada é o Computador\")\n",
    "        cpu_point = 1\n",
    "    elif round_winner == 2:\n",
    "        print(\"O vendedor da rodada é o Player\")\n",
    "        player_point = 1\n",
    "    else:\n",
    "        print(\"Rodada empatada\")\n",
    "    return (cpu_point, player_point)\n",
    "function_printwinnerbonus()"
   ]
  },
  {
   "cell_type": "code",
   "execution_count": 42,
   "metadata": {},
   "outputs": [
    {
     "name": "stdout",
     "output_type": "stream",
     "text": [
      "how many of rounds to play? select a odd number.3\n",
      "choose one of the 5 gesture options: rock, paper, scissors, lizard or spock:paper\n",
      "('Jogada do player', 'paper')\n",
      "('Jogada do computer', 'spock')\n",
      "O vendedor da rodada é o Player\n",
      "choose one of the 5 gesture options: rock, paper, scissors, lizard or spock:paper\n",
      "('Jogada do player', 'paper')\n",
      "('Jogada do computer', 'paper')\n",
      "Rodada empatada\n",
      "choose one of the 5 gesture options: rock, paper, scissors, lizard or spock:paper\n",
      "('Jogada do player', 'paper')\n",
      "('Jogada do computer', 'scissors')\n",
      "O vencedor da rodada é o Computador\n",
      "Jogo empatado\n",
      "(1, 1)\n"
     ]
    }
   ],
   "source": [
    "def function_gamebonus():\n",
    "    n_rounds = 0\n",
    "    cpu_score = 0\n",
    "    max_rounds = function_numberroundsbonus()\n",
    "    minWin = (max_rounds/2)+1\n",
    "    player_score = 0\n",
    "    \n",
    "    while (n_rounds < max_rounds) & (cpu_score < minWin) & (player_score < minWin):\n",
    "        \n",
    "        cpu_point , player_point = function_printwinnerbonus()\n",
    "        if cpu_point == 1:\n",
    "            cpu_score += 1\n",
    "        elif player_point == 1:\n",
    "            player_score += 1\n",
    "        n_rounds+=1\n",
    "        \n",
    "    if cpu_score > player_score:\n",
    "        print(\"Computador ganhou\")\n",
    "    elif player_score > cpu_score:\n",
    "        print(\"Player ganhou\")\n",
    "    else:\n",
    "        print(\"Jogo empatado\")\n",
    "    print(cpu_score,player_score)\n",
    "            \n",
    "function_gamebonus()"
   ]
  },
  {
   "cell_type": "code",
   "execution_count": null,
   "metadata": {},
   "outputs": [],
   "source": []
  }
 ],
 "metadata": {
  "kernelspec": {
   "display_name": "Python 2",
   "language": "python",
   "name": "python2"
  },
  "language_info": {
   "codemirror_mode": {
    "name": "ipython",
    "version": 2
   },
   "file_extension": ".py",
   "mimetype": "text/x-python",
   "name": "python",
   "nbconvert_exporter": "python",
   "pygments_lexer": "ipython2",
   "version": "2.7.16"
  }
 },
 "nbformat": 4,
 "nbformat_minor": 2
}
