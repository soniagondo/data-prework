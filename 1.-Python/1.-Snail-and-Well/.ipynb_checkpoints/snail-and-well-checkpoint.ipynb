{
 "cells": [
  {
   "cell_type": "markdown",
   "metadata": {},
   "source": [
    "<img src=\"https://bit.ly/2VnXWr2\" width=\"100\" align=\"left\">"
   ]
  },
  {
   "cell_type": "markdown",
   "metadata": {},
   "source": [
    "# The Snail and the Well\n",
    "\n",
    "A snail falls at the bottom of a 125 cm well. Each day the snail rises 30 cm. But at night, while sleeping, slides 20 cm because the walls are wet. How many days does it take for the snail to escape the well?\n",
    "\n",
    "**Hint**: The snail gets out of the well when it surpasses the 125cm of height.\n",
    "\n",
    "## Tools\n",
    "\n",
    "1. Loop: **while**\n",
    "2. Conditional statements: **if-else**\n",
    "3. Function: **print()**\n",
    "\n",
    "## Tasks\n",
    "\n",
    "#### 1. Assign the challenge data to variables with representative names: `well_height`, `daily_distance`, `nightly_distance` and `snail_position`."
   ]
  },
  {
   "cell_type": "code",
   "execution_count": 1,
   "metadata": {},
   "outputs": [],
   "source": [
    "well_height = 125\n",
    "daily_distance = 30\n",
    "nightly_distance = 20\n",
    "snail_position = 0"
   ]
  },
  {
   "cell_type": "markdown",
   "metadata": {},
   "source": [
    "#### 2. Create a variable `days` to keep count of the days that pass until the snail escapes the well. "
   ]
  },
  {
   "cell_type": "code",
   "execution_count": null,
   "metadata": {},
   "outputs": [],
   "source": [
    "days = 0"
   ]
  },
  {
   "cell_type": "markdown",
   "metadata": {},
   "source": [
    "#### 3. Find the solution to the challenge using the variables defined above. "
   ]
  },
  {
   "cell_type": "code",
   "execution_count": 6,
   "metadata": {},
   "outputs": [],
   "source": [
    "while snail_position < well_height:\n",
    "    print (\"Ainda não chegou no topo do poço\")\n",
    "    snail_position = snail_position + daily_distance - nightly_distance\n",
    "    days = days + 1"
   ]
  },
  {
   "cell_type": "markdown",
   "metadata": {},
   "source": [
    "#### 4. Print the solution."
   ]
  },
  {
   "cell_type": "code",
   "execution_count": 7,
   "metadata": {},
   "outputs": [
    {
     "name": "stdout",
     "output_type": "stream",
     "text": [
      "('Total de dias para sair do po\\xc3\\xa7o', 6)\n"
     ]
    }
   ],
   "source": [
    "print (\"Total de dias para sair do poço\", days)"
   ]
  },
  {
   "cell_type": "markdown",
   "metadata": {},
   "source": [
    "## Bonus\n",
    "The distance traveled by the snail each day is now defined by a list.\n",
    "```\n",
    "advance_cm = [30, 21, 33, 77, 44, 45, 23, 45, 12, 34, 55]\n",
    "```\n",
    "On the first day, the snail rises 30cm but during the night it slides 20cm. On the second day, the snail rises 21cm but during the night it slides 20cm, and so on. \n",
    "\n",
    "#### 1. How many days does it take for the snail to escape the well?\n",
    "Follow the same guidelines as in the previous challenge.\n",
    "\n",
    "**Hint**: Remember that the snail gets out of the well when it surpasses the 125cm of height."
   ]
  },
  {
   "cell_type": "code",
   "execution_count": 5,
   "metadata": {},
   "outputs": [
    {
     "name": "stdout",
     "output_type": "stream",
     "text": [
      "('Posi\\xc3\\xa7\\xc3\\xa3o', 10)\n",
      "('Posi\\xc3\\xa7\\xc3\\xa3o', 11)\n",
      "('Posi\\xc3\\xa7\\xc3\\xa3o', 24)\n",
      "('Posi\\xc3\\xa7\\xc3\\xa3o', 81)\n",
      "('Posi\\xc3\\xa7\\xc3\\xa3o', 105)\n",
      "('Posi\\xc3\\xa7\\xc3\\xa3o', 130)\n",
      "('Total de dias para escapar do po\\xc3\\xa7o', 6)\n"
     ]
    }
   ],
   "source": [
    "advance_cm = [30, 21, 33, 77, 44, 45, 23, 45, 12, 34, 55]\n",
    "well_height = 125\n",
    "nightly_distance = 20\n",
    "snail_position = 0\n",
    "\n",
    "days = 0\n",
    "\n",
    "for snail_advance in advance_cm:\n",
    "  if snail_position < well_height:\n",
    "    snail_position = snail_position + snail_advance - nightly_distance\n",
    "    days = days + 1\n",
    "    print (\"Posição\", snail_position)\n",
    "    \n",
    "print (\"Total de dias para escapar do poço\", days)"
   ]
  },
  {
   "cell_type": "markdown",
   "metadata": {},
   "source": [
    "#### 2. What is its maximum displacement in one day? And its minimum? Calculate the displacement using only the travel distance of the days used to get out of the well. \n",
    "**Hint**: Remember that displacement means the total distance risen taking into account that the snail slides at night.  "
   ]
  },
  {
   "cell_type": "code",
   "execution_count": 2,
   "metadata": {},
   "outputs": [
    {
     "name": "stdout",
     "output_type": "stream",
     "text": [
      "('Dist\\xc3\\xa2ncia m\\xc3\\xa1xima', 57)\n",
      "('Dist\\xc3\\xa2ncia m\\xc3\\xadnima', 1)\n"
     ]
    }
   ],
   "source": [
    "advance_cm = [30, 21, 33, 77, 44, 45, 23, 45, 12, 34, 55]\n",
    "well_height = 125\n",
    "nightly_distance = 20\n",
    "snail_position = 0\n",
    "bigger_displacement = 0\n",
    "displacement_oneday = 0\n",
    "\n",
    "for i in range(len(advance_cm)):\n",
    "  \n",
    "  if snail_position < well_height:\n",
    "    snail_position += advance_cm[i] - nightly_distance\n",
    "\n",
    "    displacement_oneday = advance_cm[i] - nightly_distance\n",
    "\n",
    "    if i == 0:\n",
    "      bigger_displacement = displacement_oneday\n",
    "      smaller_displacement = displacement_oneday\n",
    "     \n",
    "  if bigger_displacement < displacement_oneday:\n",
    "    bigger_displacement = displacement_oneday\n",
    "  if smaller_displacement > displacement_oneday:\n",
    "   smaller_displacement = displacement_oneday\n",
    "print (\"Distância máxima\", bigger_displacement)\n",
    "print (\"Distância mínima\", smaller_displacement)\n"
   ]
  },
  {
   "cell_type": "markdown",
   "metadata": {},
   "source": [
    "#### 3. What is its average progress? Take into account the snail slides at night."
   ]
  },
  {
   "cell_type": "code",
   "execution_count": 3,
   "metadata": {},
   "outputs": [
    {
     "name": "stdout",
     "output_type": "stream",
     "text": [
      "('M\\xc3\\xa9dia igual a', 4)\n"
     ]
    }
   ],
   "source": [
    "advance_cm = [30, 21, 33, 77, 44, 45, 23, 45, 12, 34, 55]\n",
    "well_height = 125\n",
    "nightly_distance = 20\n",
    "snail_position = 0\n",
    "num_vezes = 0\n",
    "displacement = 0\n",
    "passo2 = 0\n",
    "\n",
    "for i in range(len(advance_cm)):\n",
    "  if snail_position < well_height:\n",
    "    snail_position += advance_cm[i] - nightly_distance\n",
    "\n",
    "    displacement = advance_cm[i] - nightly_distance\n",
    "    num_vezes += 1\n",
    "\n",
    "media = displacement/num_vezes\n",
    "\n",
    "print(\"Média igual a\", media)"
   ]
  },
  {
   "cell_type": "markdown",
   "metadata": {},
   "source": [
    "#### 4. What is the standard deviation of its displacement? Take into account the snail slides at night."
   ]
  },
  {
   "cell_type": "code",
   "execution_count": 4,
   "metadata": {},
   "outputs": [
    {
     "name": "stdout",
     "output_type": "stream",
     "text": [
      "('Resultado desvio padr\\xc3\\xa3o igual a ', 21.0)\n"
     ]
    }
   ],
   "source": [
    "advance_cm = [30, 21, 33, 77, 44, 45, 23, 45, 12, 34, 55]\n",
    "well_height = 125\n",
    "nightly_distance = 20\n",
    "snail_position = 0\n",
    "num_vezes = 0\n",
    "displacement = 0\n",
    "passo2 = 0\n",
    "\n",
    "for i in range(len(advance_cm)):\n",
    "  if snail_position < well_height:\n",
    "    snail_position += advance_cm[i] - nightly_distance\n",
    "\n",
    "    displacement = advance_cm[i] - nightly_distance\n",
    "    num_vezes += 1\n",
    "\n",
    "media = displacement/num_vezes\n",
    "\n",
    "for i in range(num_vezes) :\n",
    "  passo2 += (displacement - media)**2\n",
    "\n",
    "print(\"Resultado desvio padrão igual a \",(passo2/num_vezes)**0.5)"
   ]
  },
  {
   "cell_type": "code",
   "execution_count": null,
   "metadata": {},
   "outputs": [],
   "source": []
  }
 ],
 "metadata": {
  "kernelspec": {
   "display_name": "Python 2",
   "language": "python",
   "name": "python2"
  },
  "language_info": {
   "codemirror_mode": {
    "name": "ipython",
    "version": 2
   },
   "file_extension": ".py",
   "mimetype": "text/x-python",
   "name": "python",
   "nbconvert_exporter": "python",
   "pygments_lexer": "ipython2",
   "version": "2.7.16"
  }
 },
 "nbformat": 4,
 "nbformat_minor": 2
}
